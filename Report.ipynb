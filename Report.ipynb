{
 "cells": [
  {
   "cell_type": "code",
   "execution_count": 4,
   "metadata": {},
   "outputs": [],
   "source": [
    "sword_purchases = spark.read.parquet('/tmp/sword_purchases')"
   ]
  },
  {
   "cell_type": "code",
   "execution_count": 5,
   "metadata": {},
   "outputs": [
    {
     "name": "stdout",
     "output_type": "stream",
     "text": [
      "+--------------------+--------------------+------+-----------------+---------------+--------------+-----+--------+\n",
      "|           raw_event|           timestamp|Accept|             Host|     User-Agent|    event_type|color|quantity|\n",
      "+--------------------+--------------------+------+-----------------+---------------+--------------+-----+--------+\n",
      "|{\"event_type\": \"p...|2021-07-20 03:47:...|   */*|user1.comcast.com|ApacheBench/2.3|purchase_sword|  red|       2|\n",
      "|{\"event_type\": \"p...|2021-07-20 03:47:...|   */*|user1.comcast.com|ApacheBench/2.3|purchase_sword|  red|       2|\n",
      "|{\"event_type\": \"p...|2021-07-20 03:47:...|   */*|user1.comcast.com|ApacheBench/2.3|purchase_sword|  red|       2|\n",
      "|{\"event_type\": \"p...|2021-07-20 03:47:...|   */*|user1.comcast.com|ApacheBench/2.3|purchase_sword|  red|       2|\n",
      "|{\"event_type\": \"p...|2021-07-20 03:47:...|   */*|user1.comcast.com|ApacheBench/2.3|purchase_sword|  red|       2|\n",
      "+--------------------+--------------------+------+-----------------+---------------+--------------+-----+--------+\n",
      "\n"
     ]
    }
   ],
   "source": [
    "sword_purchases.show()"
   ]
  },
  {
   "cell_type": "code",
   "execution_count": 8,
   "metadata": {},
   "outputs": [
    {
     "name": "stdout",
     "output_type": "stream",
     "text": [
      "+-----------------+-----+-----+\n",
      "|             Host|color|total|\n",
      "+-----------------+-----+-----+\n",
      "|user1.comcast.com|  red| 10.0|\n",
      "+-----------------+-----+-----+\n",
      "\n"
     ]
    }
   ],
   "source": [
    "sword_purchases.registerTempTable('sword_purchases')\n",
    "total_swords = spark.sql(\"select Host, color, sum(quantity) total from sword_purchases group by Host, color\")\n",
    "total_swords.show()"
   ]
  }
 ],
 "metadata": {
  "environment": {
   "name": "common-cpu.m65",
   "type": "gcloud",
   "uri": "gcr.io/deeplearning-platform-release/base-cpu:m65"
  },
  "kernelspec": {
   "display_name": "Python 3",
   "language": "python",
   "name": "python3"
  },
  "language_info": {
   "codemirror_mode": {
    "name": "ipython",
    "version": 3
   },
   "file_extension": ".py",
   "mimetype": "text/x-python",
   "name": "python",
   "nbconvert_exporter": "python",
   "pygments_lexer": "ipython3",
   "version": "3.7.10"
  }
 },
 "nbformat": 4,
 "nbformat_minor": 4
}
